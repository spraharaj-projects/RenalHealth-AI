{
 "cells": [
  {
   "cell_type": "code",
   "execution_count": 2,
   "metadata": {},
   "outputs": [],
   "source": [
    "import os"
   ]
  },
  {
   "cell_type": "code",
   "execution_count": 3,
   "metadata": {},
   "outputs": [
    {
     "data": {
      "text/plain": [
       "'c:\\\\Users\\\\supre\\\\PycharmProjects\\\\RenalHealth-AI\\\\research'"
      ]
     },
     "execution_count": 3,
     "metadata": {},
     "output_type": "execute_result"
    }
   ],
   "source": [
    "%pwd"
   ]
  },
  {
   "cell_type": "code",
   "execution_count": 4,
   "metadata": {},
   "outputs": [],
   "source": [
    "os.chdir(\"../\")"
   ]
  },
  {
   "cell_type": "code",
   "execution_count": 5,
   "metadata": {},
   "outputs": [],
   "source": [
    "from dataclasses import dataclass\n",
    "from pathlib import Path\n",
    "\n",
    "@dataclass(frozen=True)\n",
    "class DataIngestionConfig:\n",
    "  root_dir: Path\n",
    "  source_URL: str\n",
    "  local_data_file: Path\n",
    "  unzip_dir: Path"
   ]
  },
  {
   "cell_type": "code",
   "execution_count": 6,
   "metadata": {},
   "outputs": [],
   "source": [
    "from cnn_classifier.constants import *\n",
    "from cnn_classifier.utils.common import read_yaml, create_directories "
   ]
  },
  {
   "cell_type": "code",
   "execution_count": 7,
   "metadata": {},
   "outputs": [],
   "source": [
    "class ConfigurationManager:\n",
    "  def __init__(\n",
    "      self,\n",
    "      config_file_path: Path = CONFIG_FILE_PATH,\n",
    "      params_file_path: Path = PARAMS_FILE_PATH,\n",
    "  ):\n",
    "    self.config = read_yaml(config_file_path)\n",
    "    self.params = read_yaml(params_file_path)\n",
    "\n",
    "    create_directories([self.config.artifacts_root])\n",
    "\n",
    "  \n",
    "  def get_data_ingestion_config(self) -> DataIngestionConfig:\n",
    "    config = self.config.data_ingestion\n",
    "\n",
    "    create_directories([config.root_dir])\n",
    "\n",
    "    data_ingestion_config = DataIngestionConfig(\n",
    "      root_dir=config.root_dir,\n",
    "      source_URL=config.source_URL,\n",
    "      local_data_file=config.local_data_file,\n",
    "      unzip_dir=config.unzip_dir,\n",
    "    )\n",
    "\n",
    "    return data_ingestion_config"
   ]
  },
  {
   "cell_type": "code",
   "execution_count": 8,
   "metadata": {},
   "outputs": [],
   "source": [
    "import os\n",
    "import zipfile\n",
    "import gdown\n",
    "from cnn_classifier import logger\n",
    "from cnn_classifier.utils.common import get_size"
   ]
  },
  {
   "cell_type": "code",
   "execution_count": 9,
   "metadata": {},
   "outputs": [],
   "source": [
    "class DataIngestion:\n",
    "  def __init__(self, config: DataIngestionConfig):\n",
    "    self.config = config\n",
    "\n",
    "  def download_data(self) -> str:\n",
    "    \"\"\"fetch data from the url\n",
    "\n",
    "    :return: _description_\n",
    "    :rtype: str\n",
    "    \"\"\"\n",
    "    try:\n",
    "      dataset_url = self.config.source_URL\n",
    "      zip_download_dir = self.config.local_data_file\n",
    "      root_dir = self.config.root_dir\n",
    "      os.makedirs(root_dir, exist_ok=True)\n",
    "      logger.info(\"Downloading data from {dataset_url} into file {zip_download_dir}\")\n",
    "\n",
    "      file_id = dataset_url.split(\"/\")[-2]\n",
    "      prefix = \"https://drive.google.com/uc?/export=download&id=\"\n",
    "      gdown.download(prefix + file_id, zip_download_dir)\n",
    "\n",
    "      logger.info(f\"Downloaded data from {dataset_url} into file {zip_download_dir}\")\n",
    "    \n",
    "    except Exception as e:\n",
    "      raise e\n",
    "  \n",
    "  def unzip_data(self):\n",
    "    \"\"\"extract the zip file into the data dictionary\n",
    "    \"\"\"\n",
    "    unzip_path = self.config.unzip_dir\n",
    "    os.makedirs(unzip_path,exist_ok=True)\n",
    "    with zipfile.ZipFile(self.config.local_data_file, \"r\") as zip_ref:\n",
    "      zip_ref.extractall(unzip_path)\n",
    "\n",
    "    "
   ]
  },
  {
   "cell_type": "code",
   "execution_count": 11,
   "metadata": {},
   "outputs": [
    {
     "name": "stdout",
     "output_type": "stream",
     "text": [
      "[2024-04-01 10:07:18,548: INFO: common: yaml file: config\\config.yml loaded successfully]\n",
      "[2024-04-01 10:07:18,549: INFO: common: yaml file: params.yml loaded successfully]\n",
      "[2024-04-01 10:07:18,550: INFO: common: created directory at: artifiacts]\n",
      "[2024-04-01 10:07:18,551: INFO: common: created directory at: artifacts/data_ingestion]\n",
      "[2024-04-01 10:07:18,552: INFO: 1118113068: Downloading data from {dataset_url} into file {zip_download_dir}]\n"
     ]
    },
    {
     "name": "stderr",
     "output_type": "stream",
     "text": [
      "Downloading...\n",
      "From (original): https://drive.google.com/uc?/export=download&id=1MXrb5wLHJUfpj1-k-DB6glKmwPwealsO\n",
      "From (redirected): https://drive.google.com/uc?%2Fexport=download&id=1MXrb5wLHJUfpj1-k-DB6glKmwPwealsO&confirm=t&uuid=31e1e92f-1a5a-4588-92a6-3c6f3f35e364\n",
      "To: c:\\Users\\supre\\PycharmProjects\\RenalHealth-AI\\artifacts\\data_ingestion\\data.zip\n",
      "100%|██████████| 1.63G/1.63G [01:48<00:00, 15.1MB/s]"
     ]
    },
    {
     "name": "stdout",
     "output_type": "stream",
     "text": [
      "[2024-04-01 10:09:09,645: INFO: 1118113068: Downloaded data from https://drive.google.com/file/d/1MXrb5wLHJUfpj1-k-DB6glKmwPwealsO/view?usp=sharing into file artifacts/data_ingestion/data.zip]\n"
     ]
    },
    {
     "name": "stderr",
     "output_type": "stream",
     "text": [
      "\n"
     ]
    }
   ],
   "source": [
    "try:\n",
    "  config = ConfigurationManager()\n",
    "  data_ingestion_config = config.get_data_ingestion_config()\n",
    "  data_ingestion = DataIngestion(config=data_ingestion_config)\n",
    "  data_ingestion.download_data()\n",
    "  data_ingestion.unzip_data()\n",
    "except Exception as e:\n",
    "  raise e\n",
    "  "
   ]
  },
  {
   "cell_type": "code",
   "execution_count": null,
   "metadata": {},
   "outputs": [],
   "source": []
  }
 ],
 "metadata": {
  "kernelspec": {
   "display_name": "renal",
   "language": "python",
   "name": "python3"
  },
  "language_info": {
   "codemirror_mode": {
    "name": "ipython",
    "version": 3
   },
   "file_extension": ".py",
   "mimetype": "text/x-python",
   "name": "python",
   "nbconvert_exporter": "python",
   "pygments_lexer": "ipython3",
   "version": "3.12.1"
  }
 },
 "nbformat": 4,
 "nbformat_minor": 2
}
